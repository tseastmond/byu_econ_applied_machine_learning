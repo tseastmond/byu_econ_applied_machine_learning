{
 "cells": [
  {
   "cell_type": "markdown",
   "metadata": {},
   "source": [
    "# <center>Homework 4</center>\n",
    "### <center>_Tanner S Eastmond_</center>"
   ]
  },
  {
   "cell_type": "markdown",
   "metadata": {},
   "source": [
    "## Surviving the Titanic\n",
    "\n",
    "What differentiated people who survived or did not survive the Titanic disaster? This has been on the question of many amateur and even professional historians. In connection with the Kaggle competition [Titanic: Machine Learning from Disaster](https://www.kaggle.com/c/titanic), we will explore what characteristics differentiated whether or not a person on the Titanic survived or not."
   ]
  },
  {
   "cell_type": "code",
   "execution_count": 53,
   "metadata": {
    "collapsed": true
   },
   "outputs": [],
   "source": [
    "# Import the packages we need.\n",
    "import numpy as np\n",
    "import pandas as pd\n",
    "import matplotlib.pyplot as plt\n",
    "import seaborn as sns\n",
    "import random\n",
    "\n",
    "from sklearn.linear_model import SGDRegressor, LogisticRegression, ElasticNetCV, LassoCV\n",
    "from sklearn.metrics import mean_squared_error, accuracy_score\n",
    "from sklearn.preprocessing import StandardScaler\n",
    "from sklearn.model_selection import train_test_split, RandomizedSearchCV, GridSearchCV\n",
    "from sklearn.feature_selection import SelectFromModel\n",
    "from sklearn.metrics import f1_score, classification_report, accuracy_score\n",
    "from sklearn.ensemble import RandomForestClassifier, GradientBoostingClassifier, VotingClassifier\n",
    "from sklearn.neighbors import KNeighborsClassifier\n",
    "from sklearn.svm import SVC\n",
    "from sklearn.tree import DecisionTreeClassifier\n",
    "\n",
    "%matplotlib inline"
   ]
  },
  {
   "cell_type": "markdown",
   "metadata": {},
   "source": [
    "## Data Description and Cleaning"
   ]
  },
  {
   "cell_type": "code",
   "execution_count": 2,
   "metadata": {
    "scrolled": false
   },
   "outputs": [
    {
     "data": {
      "text/html": [
       "<div>\n",
       "<style>\n",
       "    .dataframe thead tr:only-child th {\n",
       "        text-align: right;\n",
       "    }\n",
       "\n",
       "    .dataframe thead th {\n",
       "        text-align: left;\n",
       "    }\n",
       "\n",
       "    .dataframe tbody tr th {\n",
       "        vertical-align: top;\n",
       "    }\n",
       "</style>\n",
       "<table border=\"1\" class=\"dataframe\">\n",
       "  <thead>\n",
       "    <tr style=\"text-align: right;\">\n",
       "      <th></th>\n",
       "      <th>PassengerId</th>\n",
       "      <th>Survived</th>\n",
       "      <th>Pclass</th>\n",
       "      <th>Name</th>\n",
       "      <th>Sex</th>\n",
       "      <th>Age</th>\n",
       "      <th>SibSp</th>\n",
       "      <th>Parch</th>\n",
       "      <th>Ticket</th>\n",
       "      <th>Fare</th>\n",
       "      <th>Cabin</th>\n",
       "      <th>Embarked</th>\n",
       "    </tr>\n",
       "  </thead>\n",
       "  <tbody>\n",
       "    <tr>\n",
       "      <th>0</th>\n",
       "      <td>1</td>\n",
       "      <td>0</td>\n",
       "      <td>3</td>\n",
       "      <td>Braund, Mr. Owen Harris</td>\n",
       "      <td>male</td>\n",
       "      <td>22.0</td>\n",
       "      <td>1</td>\n",
       "      <td>0</td>\n",
       "      <td>A/5 21171</td>\n",
       "      <td>7.2500</td>\n",
       "      <td>NaN</td>\n",
       "      <td>S</td>\n",
       "    </tr>\n",
       "    <tr>\n",
       "      <th>1</th>\n",
       "      <td>2</td>\n",
       "      <td>1</td>\n",
       "      <td>1</td>\n",
       "      <td>Cumings, Mrs. John Bradley (Florence Briggs Th...</td>\n",
       "      <td>female</td>\n",
       "      <td>38.0</td>\n",
       "      <td>1</td>\n",
       "      <td>0</td>\n",
       "      <td>PC 17599</td>\n",
       "      <td>71.2833</td>\n",
       "      <td>C85</td>\n",
       "      <td>C</td>\n",
       "    </tr>\n",
       "    <tr>\n",
       "      <th>2</th>\n",
       "      <td>3</td>\n",
       "      <td>1</td>\n",
       "      <td>3</td>\n",
       "      <td>Heikkinen, Miss. Laina</td>\n",
       "      <td>female</td>\n",
       "      <td>26.0</td>\n",
       "      <td>0</td>\n",
       "      <td>0</td>\n",
       "      <td>STON/O2. 3101282</td>\n",
       "      <td>7.9250</td>\n",
       "      <td>NaN</td>\n",
       "      <td>S</td>\n",
       "    </tr>\n",
       "    <tr>\n",
       "      <th>3</th>\n",
       "      <td>4</td>\n",
       "      <td>1</td>\n",
       "      <td>1</td>\n",
       "      <td>Futrelle, Mrs. Jacques Heath (Lily May Peel)</td>\n",
       "      <td>female</td>\n",
       "      <td>35.0</td>\n",
       "      <td>1</td>\n",
       "      <td>0</td>\n",
       "      <td>113803</td>\n",
       "      <td>53.1000</td>\n",
       "      <td>C123</td>\n",
       "      <td>S</td>\n",
       "    </tr>\n",
       "    <tr>\n",
       "      <th>4</th>\n",
       "      <td>5</td>\n",
       "      <td>0</td>\n",
       "      <td>3</td>\n",
       "      <td>Allen, Mr. William Henry</td>\n",
       "      <td>male</td>\n",
       "      <td>35.0</td>\n",
       "      <td>0</td>\n",
       "      <td>0</td>\n",
       "      <td>373450</td>\n",
       "      <td>8.0500</td>\n",
       "      <td>NaN</td>\n",
       "      <td>S</td>\n",
       "    </tr>\n",
       "  </tbody>\n",
       "</table>\n",
       "</div>"
      ],
      "text/plain": [
       "   PassengerId  Survived  Pclass  \\\n",
       "0            1         0       3   \n",
       "1            2         1       1   \n",
       "2            3         1       3   \n",
       "3            4         1       1   \n",
       "4            5         0       3   \n",
       "\n",
       "                                                Name     Sex   Age  SibSp  \\\n",
       "0                            Braund, Mr. Owen Harris    male  22.0      1   \n",
       "1  Cumings, Mrs. John Bradley (Florence Briggs Th...  female  38.0      1   \n",
       "2                             Heikkinen, Miss. Laina  female  26.0      0   \n",
       "3       Futrelle, Mrs. Jacques Heath (Lily May Peel)  female  35.0      1   \n",
       "4                           Allen, Mr. William Henry    male  35.0      0   \n",
       "\n",
       "   Parch            Ticket     Fare Cabin Embarked  \n",
       "0      0         A/5 21171   7.2500   NaN        S  \n",
       "1      0          PC 17599  71.2833   C85        C  \n",
       "2      0  STON/O2. 3101282   7.9250   NaN        S  \n",
       "3      0            113803  53.1000  C123        S  \n",
       "4      0            373450   8.0500   NaN        S  "
      ]
     },
     "execution_count": 2,
     "metadata": {},
     "output_type": "execute_result"
    }
   ],
   "source": [
    "# Read in the data and get a first look.\n",
    "df = pd.read_csv('train_titanic.csv')\n",
    "df.head()"
   ]
  },
  {
   "cell_type": "markdown",
   "metadata": {},
   "source": [
    "First we will deal with missing data. We will see what is missing first and see if it is missing at random."
   ]
  },
  {
   "cell_type": "code",
   "execution_count": 3,
   "metadata": {},
   "outputs": [
    {
     "data": {
      "text/plain": [
       "PassengerId      0\n",
       "Survived         0\n",
       "Pclass           0\n",
       "Name             0\n",
       "Sex              0\n",
       "Age            177\n",
       "SibSp            0\n",
       "Parch            0\n",
       "Ticket           0\n",
       "Fare             0\n",
       "Cabin          687\n",
       "Embarked         2\n",
       "dtype: int64"
      ]
     },
     "execution_count": 3,
     "metadata": {},
     "output_type": "execute_result"
    }
   ],
   "source": [
    "# Check what is missing.\n",
    "df.isnull().sum()"
   ]
  },
  {
   "cell_type": "code",
   "execution_count": 4,
   "metadata": {},
   "outputs": [
    {
     "data": {
      "text/plain": [
       "0    125\n",
       "1     52\n",
       "Name: Survived, dtype: int64"
      ]
     },
     "execution_count": 4,
     "metadata": {},
     "output_type": "execute_result"
    }
   ],
   "source": [
    "# See if age is missing at random.\n",
    "df.Survived.loc[df.Age.isnull()].value_counts()"
   ]
  },
  {
   "cell_type": "markdown",
   "metadata": {},
   "source": [
    "So Cabin is missing if the person did not have a cabin, but age is a problem. More than twice as many people missing age did not survive. We will imput the values using a hot-deck method, then include a feature for the person missing age."
   ]
  },
  {
   "cell_type": "code",
   "execution_count": 5,
   "metadata": {
    "collapsed": true
   },
   "outputs": [],
   "source": [
    "# Fill embarked with random values.\n",
    "df.loc[(df.Embarked.isnull()), 'Embarked'] = df.apply(lambda x: np.random.choice(['S', 'C', 'Q']), axis=1)"
   ]
  },
  {
   "cell_type": "code",
   "execution_count": 6,
   "metadata": {
    "collapsed": true
   },
   "outputs": [],
   "source": [
    "# Generate a variable for missing age.\n",
    "df['age_missing'] = df.Age.isnull()\n",
    "\n",
    "# Impute missing variables.\n",
    "df.loc[(df.Age.isnull()), 'Age'] = df.apply(lambda x: np.random.choice(df.Age.dropna()), axis=1)"
   ]
  },
  {
   "cell_type": "markdown",
   "metadata": {},
   "source": [
    "Now let's learn a little bit about our \"Survived\" variable."
   ]
  },
  {
   "cell_type": "code",
   "execution_count": 7,
   "metadata": {},
   "outputs": [
    {
     "data": {
      "text/plain": [
       "0    549\n",
       "1    342\n",
       "Name: Survived, dtype: int64"
      ]
     },
     "execution_count": 7,
     "metadata": {},
     "output_type": "execute_result"
    }
   ],
   "source": [
    "# See how many are in each class.\n",
    "df.Survived.value_counts()"
   ]
  },
  {
   "cell_type": "code",
   "execution_count": 8,
   "metadata": {},
   "outputs": [
    {
     "data": {
      "text/html": [
       "<div>\n",
       "<style>\n",
       "    .dataframe thead tr:only-child th {\n",
       "        text-align: right;\n",
       "    }\n",
       "\n",
       "    .dataframe thead th {\n",
       "        text-align: left;\n",
       "    }\n",
       "\n",
       "    .dataframe tbody tr th {\n",
       "        vertical-align: top;\n",
       "    }\n",
       "</style>\n",
       "<table border=\"1\" class=\"dataframe\">\n",
       "  <thead>\n",
       "    <tr>\n",
       "      <th></th>\n",
       "      <th></th>\n",
       "      <th colspan=\"2\" halign=\"left\">Age</th>\n",
       "      <th colspan=\"2\" halign=\"left\">Fare</th>\n",
       "      <th colspan=\"2\" halign=\"left\">Parch</th>\n",
       "      <th colspan=\"2\" halign=\"left\">SibSp</th>\n",
       "    </tr>\n",
       "    <tr>\n",
       "      <th></th>\n",
       "      <th>Survived</th>\n",
       "      <th>0</th>\n",
       "      <th>1</th>\n",
       "      <th>0</th>\n",
       "      <th>1</th>\n",
       "      <th>0</th>\n",
       "      <th>1</th>\n",
       "      <th>0</th>\n",
       "      <th>1</th>\n",
       "    </tr>\n",
       "    <tr>\n",
       "      <th>Sex</th>\n",
       "      <th>Pclass</th>\n",
       "      <th></th>\n",
       "      <th></th>\n",
       "      <th></th>\n",
       "      <th></th>\n",
       "      <th></th>\n",
       "      <th></th>\n",
       "      <th></th>\n",
       "      <th></th>\n",
       "    </tr>\n",
       "  </thead>\n",
       "  <tbody>\n",
       "    <tr>\n",
       "      <th rowspan=\"3\" valign=\"top\">female</th>\n",
       "      <th>1</th>\n",
       "      <td>25.67</td>\n",
       "      <td>33.59</td>\n",
       "      <td>110.60</td>\n",
       "      <td>105.98</td>\n",
       "      <td>1.33</td>\n",
       "      <td>0.43</td>\n",
       "      <td>0.67</td>\n",
       "      <td>0.55</td>\n",
       "    </tr>\n",
       "    <tr>\n",
       "      <th>2</th>\n",
       "      <td>36.00</td>\n",
       "      <td>27.95</td>\n",
       "      <td>18.25</td>\n",
       "      <td>22.29</td>\n",
       "      <td>0.17</td>\n",
       "      <td>0.64</td>\n",
       "      <td>0.50</td>\n",
       "      <td>0.49</td>\n",
       "    </tr>\n",
       "    <tr>\n",
       "      <th>3</th>\n",
       "      <td>25.03</td>\n",
       "      <td>22.70</td>\n",
       "      <td>19.77</td>\n",
       "      <td>12.46</td>\n",
       "      <td>1.10</td>\n",
       "      <td>0.50</td>\n",
       "      <td>1.29</td>\n",
       "      <td>0.50</td>\n",
       "    </tr>\n",
       "    <tr>\n",
       "      <th rowspan=\"3\" valign=\"top\">male</th>\n",
       "      <th>1</th>\n",
       "      <td>40.84</td>\n",
       "      <td>35.40</td>\n",
       "      <td>62.89</td>\n",
       "      <td>74.64</td>\n",
       "      <td>0.26</td>\n",
       "      <td>0.31</td>\n",
       "      <td>0.27</td>\n",
       "      <td>0.38</td>\n",
       "    </tr>\n",
       "    <tr>\n",
       "      <th>2</th>\n",
       "      <td>33.33</td>\n",
       "      <td>19.37</td>\n",
       "      <td>19.49</td>\n",
       "      <td>21.10</td>\n",
       "      <td>0.14</td>\n",
       "      <td>0.65</td>\n",
       "      <td>0.31</td>\n",
       "      <td>0.53</td>\n",
       "    </tr>\n",
       "    <tr>\n",
       "      <th>3</th>\n",
       "      <td>27.40</td>\n",
       "      <td>24.09</td>\n",
       "      <td>12.20</td>\n",
       "      <td>15.58</td>\n",
       "      <td>0.21</td>\n",
       "      <td>0.30</td>\n",
       "      <td>0.52</td>\n",
       "      <td>0.34</td>\n",
       "    </tr>\n",
       "  </tbody>\n",
       "</table>\n",
       "</div>"
      ],
      "text/plain": [
       "                 Age           Fare         Parch       SibSp      \n",
       "Survived           0      1       0       1     0     1     0     1\n",
       "Sex    Pclass                                                      \n",
       "female 1       25.67  33.59  110.60  105.98  1.33  0.43  0.67  0.55\n",
       "       2       36.00  27.95   18.25   22.29  0.17  0.64  0.50  0.49\n",
       "       3       25.03  22.70   19.77   12.46  1.10  0.50  1.29  0.50\n",
       "male   1       40.84  35.40   62.89   74.64  0.26  0.31  0.27  0.38\n",
       "       2       33.33  19.37   19.49   21.10  0.14  0.65  0.31  0.53\n",
       "       3       27.40  24.09   12.20   15.58  0.21  0.30  0.52  0.34"
      ]
     },
     "execution_count": 8,
     "metadata": {},
     "output_type": "execute_result"
    }
   ],
   "source": [
    "# Print out variables by class.\n",
    "pd.pivot_table(df, values=['Age', 'SibSp', 'Parch', 'Fare'], index=['Sex', 'Pclass'], columns=['Survived']).round(decimals=2)"
   ]
  },
  {
   "cell_type": "markdown",
   "metadata": {},
   "source": [
    "Interesting. In every case with age, younger people survived, except for first-class female passengers, of whom older women generally survived. Fare doesn't necessarily show a pattern for women, but for men, those who survived paid more on average for tickets. Also we do not necessarily observe a strong pattern for number of parents/children or siblings/spouses using this approach."
   ]
  },
  {
   "cell_type": "markdown",
   "metadata": {},
   "source": [
    "### _Categorical Variables_\n",
    "\n",
    "Now we need to examine our categorical variables with the survived variable."
   ]
  },
  {
   "cell_type": "code",
   "execution_count": 9,
   "metadata": {},
   "outputs": [
    {
     "data": {
      "text/plain": [
       "<matplotlib.text.Text at 0x1dc050ab710>"
      ]
     },
     "execution_count": 9,
     "metadata": {},
     "output_type": "execute_result"
    },
    {
     "data": {
      "image/png": "[encoded data removed]",
      "text/plain": [
       "<matplotlib.figure.Figure at 0x1dc04c58198>"
      ]
     },
     "metadata": {},
     "output_type": "display_data"
    }
   ],
   "source": [
    "# Make a count plot for each.\n",
    "# Initialize the plot.\n",
    "fig, axes = plt.subplots(2, 5, figsize=(18,5))\n",
    "\n",
    "# Title the plot.\n",
    "fig.suptitle('Number of Survivors by each Categorical Variable', fontsize=16, y=.95)\n",
    "\n",
    "# Make the plots.\n",
    "sns.countplot(x='Pclass', data=df.loc[df.Survived == 0], order=[1, 2, 3], palette=sns.color_palette(\"Blues_r\", 8), ax=axes.flatten()[0])\n",
    "sns.countplot(x='Sex', data=df.loc[df.Survived == 0], order=['male', 'female'], palette=sns.color_palette(\"Blues_r\", 8), ax=axes.flatten()[1])\n",
    "sns.countplot(x='Embarked', data=df.loc[df.Survived == 0], order=['C', 'Q', 'S'], palette=sns.color_palette(\"Blues_r\", 8), ax=axes.flatten()[2])\n",
    "sns.countplot(x='SibSp', data=df.loc[df.Survived == 0], palette=sns.color_palette(\"Blues_r\", 8), ax=axes.flatten()[3])\n",
    "sns.countplot(x='Parch', data=df.loc[df.Survived == 0], palette=sns.color_palette(\"Blues_r\", 8), ax=axes.flatten()[4])\n",
    "\n",
    "sns.countplot(x='Pclass', data=df.loc[df.Survived == 1], order=[1, 2, 3], palette=sns.color_palette(\"Blues_r\", 8), ax=axes.flatten()[5])\n",
    "sns.countplot(x='Sex', data=df.loc[df.Survived == 1], order=['male', 'female'], palette=sns.color_palette(\"Blues_r\", 8), ax=axes.flatten()[6])\n",
    "sns.countplot(x='Embarked', data=df.loc[df.Survived == 1], order=['C', 'Q', 'S'], palette=sns.color_palette(\"Blues_r\", 8), ax=axes.flatten()[7])\n",
    "sns.countplot(x='SibSp', data=df.loc[df.Survived == 1], palette=sns.color_palette(\"Blues_r\", 8), ax=axes.flatten()[8])\n",
    "sns.countplot(x='Parch', data=df.loc[df.Survived == 1], palette=sns.color_palette(\"Blues_r\", 8), ax=axes.flatten()[9])\n",
    "\n",
    "# Share the x and y axis label.\n",
    "for x in range(5):\n",
    "    axes.flatten()[x].set_xlabel('')\n",
    "    \n",
    "for x in [1, 2, 3, 4, 6, 7, 8, 9]:\n",
    "    axes.flatten()[x].set_ylabel('')\n",
    "\n",
    "axes.flatten()[0].set_ylabel('Did Not Survive')\n",
    "axes.flatten()[5].set_ylabel('Survived')"
   ]
  },
  {
   "cell_type": "markdown",
   "metadata": {},
   "source": [
    "Keep track of the scale well, but we can see that more than twice as many females survived than didn't or than males, and most males did not survive. Also, a higher proportion of first class passengers survived than the other classes. The pattern is not super clear for where passengers embarked. It also looks like a larger percentage of people who did not survive had no family with them."
   ]
  },
  {
   "cell_type": "markdown",
   "metadata": {},
   "source": [
    "### _Continuous Variables_\n",
    "\n",
    "Let's take a look at the continuous variables."
   ]
  },
  {
   "cell_type": "code",
   "execution_count": 10,
   "metadata": {},
   "outputs": [
    {
     "data": {
      "text/plain": [
       "<matplotlib.text.Text at 0x1dc053a1978>"
      ]
     },
     "execution_count": 10,
     "metadata": {},
     "output_type": "execute_result"
    },
    {
     "data": {
      "image/png": "[encoded data removed]",
      "text/plain": [
       "<matplotlib.figure.Figure at 0x1dc0510fa20>"
      ]
     },
     "metadata": {},
     "output_type": "display_data"
    }
   ],
   "source": [
    "# Make a histogram for each.\n",
    "# Initialize the plot.\n",
    "fig, axes = plt.subplots(2, 2, figsize=(15,5))\n",
    "\n",
    "# Title the plot.\n",
    "fig.suptitle('Number of Survivors by each Continuous Variable', fontsize=16, y=.95)\n",
    "\n",
    "# Define the plots.\n",
    "sns.distplot(df['Age'].loc[df.Survived == 0].dropna(), ax=axes.flatten()[0])\n",
    "sns.distplot(df['Fare'].loc[df.Survived == 0].dropna(), ax=axes.flatten()[1])\n",
    "\n",
    "sns.distplot(df['Age'].loc[df.Survived == 1].dropna(), ax=axes.flatten()[2])\n",
    "sns.distplot(df['Fare'].loc[df.Survived == 1].dropna(), ax=axes.flatten()[3])\n",
    "\n",
    "# Share the x and y axis label.\n",
    "for x in range(2):\n",
    "    axes.flatten()[x].set_xlabel('')\n",
    "    \n",
    "for x in [1, 3]:\n",
    "    axes.flatten()[x].set_ylabel('')\n",
    "\n",
    "axes.flatten()[0].set_ylabel('Did Not Survive')\n",
    "axes.flatten()[2].set_ylabel('Survived')"
   ]
  },
  {
   "cell_type": "markdown",
   "metadata": {},
   "source": [
    "The distributions are not vastly different, though a lot more people had higher fares that survived than those who didn't, and more children survived relative to other age groups."
   ]
  },
  {
   "cell_type": "markdown",
   "metadata": {},
   "source": [
    "### _New Features_\n",
    "\n",
    "Well, we have a feel for the original features in the data. Let's engineer some other features now. First, let's start with family. We are going to feed in the family features as continuous variables, but let's make another feature for total family size, and one for whether the person has no family on board or not.\n",
    "\n",
    "We will also make a few more age features. We will make a variable for young children (5 and under), and elderly (65 and over). Fare will also likely be useful as a category, so we will use quintiles.\n",
    "\n",
    "We also can get some information about cabin and where the person was on the ship, so let's construct those variables. We will make variables for whether someone had a cabin or not and what floor they were on."
   ]
  },
  {
   "cell_type": "code",
   "execution_count": 11,
   "metadata": {
    "collapsed": true
   },
   "outputs": [],
   "source": [
    "def Clean(df):\n",
    "    # Make a total family variable.\n",
    "    df['total_fam'] = df['SibSp'] + df['Parch']\n",
    "    \n",
    "    # Make a variable for being alone.\n",
    "    df['no_fam'] = 0\n",
    "    df.loc[(df['total_fam'] == 0), 'no_fam'] = 1\n",
    "    \n",
    "    # Make a young child feature.\n",
    "    df['young_child'] = 0\n",
    "    df.loc[(df['Age'] <= 5), 'young_child'] = 1\n",
    "    \n",
    "    # Make an elderly person feature.\n",
    "    df['elderly'] = 0\n",
    "    df.loc[(df['Age'] >= 65), 'elderly'] = 1\n",
    "    \n",
    "    # Get the quartiles for fare.\n",
    "    df['fare_q'] = pd.qcut(df.Fare, 5, labels=[0, 1, 2, 3, 4])\n",
    "    \n",
    "    # Make a variable for had a cabin.\n",
    "    df['had_cabin'] = df.Cabin.notnull().astype(int)\n",
    "    \n",
    "    # Get the floor.\n",
    "    df['floor'] = df.Cabin.str.extract('([A-Z]+)', expand=False)\n",
    "    df['floor'] = df.floor.fillna('None')"
   ]
  },
  {
   "cell_type": "code",
   "execution_count": 12,
   "metadata": {
    "collapsed": true
   },
   "outputs": [],
   "source": [
    "# Run the function.\n",
    "Clean(df)"
   ]
  },
  {
   "cell_type": "markdown",
   "metadata": {},
   "source": [
    "Now we need to make the dummy variables for our data."
   ]
  },
  {
   "cell_type": "code",
   "execution_count": 13,
   "metadata": {
    "collapsed": true
   },
   "outputs": [],
   "source": [
    "# Get the dummy variables.\n",
    "df['Pclass'] = df['Pclass'].astype(object)\n",
    "df['SibSp'] = df['SibSp'].astype(object)\n",
    "df['Parch'] = df['Parch'].astype(object)\n",
    "df1 = pd.get_dummies(df[['Pclass', 'Sex', 'Embarked', 'fare_q', 'floor', 'SibSp', 'Parch']])\n",
    "\n",
    "# Join with the original data.\n",
    "full = df.join(df1)"
   ]
  },
  {
   "cell_type": "markdown",
   "metadata": {},
   "source": [
    "## Model\n"
   ]
  },
  {
   "cell_type": "markdown",
   "metadata": {},
   "source": [
    "We will try a few different models, then use the best to submit to Kaggle.\n",
    "\n",
    "First we will split the data into training and test sets."
   ]
  },
  {
   "cell_type": "code",
   "execution_count": 14,
   "metadata": {
    "collapsed": true
   },
   "outputs": [],
   "source": [
    "# Mark the target variable and get the full data.\n",
    "target = full.Survived\n",
    "train = full[['Age', 'SibSp', 'Parch', 'Fare', 'age_missing', 'total_fam', 'no_fam', 'young_child', 'elderly', 'had_cabin',\n",
    "             'Pclass_1', 'Pclass_2', 'Pclass_3', 'Sex_female', 'Sex_male', 'Embarked_C', 'Embarked_Q', 'Embarked_S',\n",
    "             'fare_q_0', 'fare_q_1', 'fare_q_2', 'fare_q_3', 'fare_q_4', 'floor_A', 'floor_B', 'floor_C', 'floor_D',\n",
    "             'floor_E', 'floor_F', 'floor_G', 'floor_None', 'floor_T', 'SibSp_0', 'SibSp_1', 'SibSp_2', 'SibSp_3',\n",
    "             'SibSp_4', 'SibSp_5', 'SibSp_8', 'Parch_0', 'Parch_1', 'Parch_2', 'Parch_3',\n",
    "             'Parch_4', 'Parch_5', 'Parch_6']]\n",
    "\n",
    "# Make a train/test split.\n",
    "X_train, X_test, y_train, y_test = train_test_split(train, target, test_size=0.33, random_state=42)"
   ]
  },
  {
   "cell_type": "markdown",
   "metadata": {},
   "source": [
    "The first model we will try is the K-Nearest Neighbor algorithm."
   ]
  },
  {
   "cell_type": "code",
   "execution_count": 47,
   "metadata": {},
   "outputs": [
    {
     "name": "stdout",
     "output_type": "stream",
     "text": [
      "Best Parameters: {'n_neighbors': 5, 'weights': 'distance', 'p': 1}\n",
      "Test Classification Report:\n",
      "             precision    recall  f1-score   support\n",
      "\n",
      "          0       0.74      0.82      0.78       175\n",
      "          1       0.69      0.57      0.63       120\n",
      "\n",
      "avg / total       0.72      0.72      0.72       295\n",
      "\n",
      "Train Accuracy: 0.989932885906\n",
      "Test Accuracy: 0.722033898305\n"
     ]
    }
   ],
   "source": [
    "# Run the K nearest neighbor algorithm.\n",
    "param_dist = {\"n_neighbors\": [1, 3, 5, 7, 9, 11], \"weights\": ['uniform', 'distance'], 'p': [1, 2, 3]}\n",
    "\n",
    "neighbor = KNeighborsClassifier()\n",
    "gridsearch = GridSearchCV(neighbor, param_dist, scoring='f1')\n",
    "gridsearch.fit(X_train, y_train)\n",
    "\n",
    "# Get the predictions.\n",
    "train_predictions = gridsearch.predict(X_train)\n",
    "test_predictions = gridsearch.predict(X_test)\n",
    "\n",
    "# Print the results.\n",
    "print('Best Parameters:', gridsearch.best_params_)\n",
    "print(\"Test Classification Report:\")\n",
    "print(classification_report(y_test, test_predictions))\n",
    "print(\"Train Accuracy:\", accuracy_score(y_train, train_predictions))\n",
    "print(\"Test Accuracy:\", accuracy_score(y_test, test_predictions))"
   ]
  },
  {
   "cell_type": "markdown",
   "metadata": {},
   "source": [
    "The recall is pretty bad, and we appear to be overfitting the data pretty badly. We will move on and try a Decision Tree."
   ]
  },
  {
   "cell_type": "code",
   "execution_count": 48,
   "metadata": {},
   "outputs": [
    {
     "name": "stdout",
     "output_type": "stream",
     "text": [
      "Best Parameters: {'class_weight': None, 'max_depth': 5}\n",
      "Test Classification Report:\n",
      "             precision    recall  f1-score   support\n",
      "\n",
      "          0       0.82      0.85      0.84       175\n",
      "          1       0.77      0.73      0.75       120\n",
      "\n",
      "avg / total       0.80      0.80      0.80       295\n",
      "\n",
      "Train Accuracy: 0.869127516779\n",
      "Test Accuracy: 0.803389830508\n"
     ]
    }
   ],
   "source": [
    "# Run a Decision Tree with cross validated parameters.\n",
    "param_dist = {'max_depth' : [1, 3, 5, 10], 'class_weight' : ['balanced', None]}\n",
    "\n",
    "tree = DecisionTreeClassifier()\n",
    "n_iter_search = 8\n",
    "random_search = RandomizedSearchCV(tree, param_distributions=param_dist,\n",
    "                                   n_iter=n_iter_search, cv=3, scoring='accuracy')\n",
    "random_search.fit(X_train, y_train)\n",
    "\n",
    "# Get the predictions.\n",
    "train_predictions = random_search.predict(X_train)\n",
    "test_predictions = random_search.predict(X_test)\n",
    "\n",
    "# Print the results.\n",
    "print('Best Parameters:', random_search.best_params_)\n",
    "print(\"Test Classification Report:\")\n",
    "print(classification_report(y_test, test_predictions))\n",
    "print('Train Accuracy:', accuracy_score(y_train, train_predictions))\n",
    "print('Test Accuracy:', accuracy_score(y_test, test_predictions))"
   ]
  },
  {
   "cell_type": "markdown",
   "metadata": {},
   "source": [
    "Let's try an SVM model."
   ]
  },
  {
   "cell_type": "code",
   "execution_count": 21,
   "metadata": {},
   "outputs": [
    {
     "name": "stdout",
     "output_type": "stream",
     "text": [
      "Test Classification Report:\n",
      "             precision    recall  f1-score   support\n",
      "\n",
      "          0       0.67      0.94      0.78       175\n",
      "          1       0.78      0.33      0.47       120\n",
      "\n",
      "avg / total       0.72      0.69      0.65       295\n",
      "\n",
      "Train Accuracy: 0.776845637584\n",
      "Test Accuracy: 0.691525423729\n"
     ]
    }
   ],
   "source": [
    "# Run the SVM model.\n",
    "svc_model = SVC(C=0.5, kernel='rbf')\n",
    "svc_model.fit(X_train, y_train)\n",
    "\n",
    "# Get the predictions.\n",
    "train_predictions = svc_model.predict(X_train)\n",
    "test_predictions = svc_model.predict(X_test)\n",
    "\n",
    "# Print the results.\n",
    "print(\"Test Classification Report:\")\n",
    "print(classification_report(y_test, test_predictions))\n",
    "print(\"Train Accuracy:\", accuracy_score(y_train, train_predictions))\n",
    "print(\"Test Accuracy:\", accuracy_score(y_test, test_predictions))"
   ]
  },
  {
   "cell_type": "markdown",
   "metadata": {},
   "source": [
    "Next we will try the Random Forest Model."
   ]
  },
  {
   "cell_type": "code",
   "execution_count": 50,
   "metadata": {
    "scrolled": true
   },
   "outputs": [
    {
     "name": "stdout",
     "output_type": "stream",
     "text": [
      "Best Parameters: {'class_weight': None, 'n_estimators': 1000, 'max_depth': 10}\n",
      "Test Classification Report:\n",
      "             precision    recall  f1-score   support\n",
      "\n",
      "          0       0.80      0.86      0.83       175\n",
      "          1       0.78      0.69      0.73       120\n",
      "\n",
      "avg / total       0.79      0.79      0.79       295\n",
      "\n",
      "Train Accuracy: 0.944630872483\n",
      "Test Accuracy: 0.793220338983\n"
     ]
    }
   ],
   "source": [
    "# Run a Random Forest model with cross validated parameters.\n",
    "param_dist = {'n_estimators' : [1000, 2500, 5000], 'max_depth' : [1, 3, 5, 10], 'class_weight' : ['balanced', None]}\n",
    "\n",
    "rand_forest = RandomForestClassifier()\n",
    "n_iter_search = 8\n",
    "random_search = RandomizedSearchCV(rand_forest, param_distributions=param_dist,\n",
    "                                   n_iter=n_iter_search, cv=3, scoring='accuracy')\n",
    "random_search.fit(X_train, y_train)\n",
    "\n",
    "# Get the predictions.\n",
    "train_predictions = random_search.predict(X_train)\n",
    "test_predictions = random_search.predict(X_test)\n",
    "\n",
    "# Print the results.\n",
    "print('Best Parameters:', random_search.best_params_)\n",
    "print(\"Test Classification Report:\")\n",
    "print(classification_report(y_test, test_predictions))\n",
    "print('Train Accuracy:', accuracy_score(y_train, train_predictions))\n",
    "print('Test Accuracy:', accuracy_score(y_test, test_predictions))"
   ]
  },
  {
   "cell_type": "markdown",
   "metadata": {},
   "source": [
    "The last model we will try Gradient Boosting."
   ]
  },
  {
   "cell_type": "code",
   "execution_count": 51,
   "metadata": {},
   "outputs": [
    {
     "name": "stdout",
     "output_type": "stream",
     "text": [
      "Best Parameters: {'n_estimators': 1000, 'max_depth': 1}\n",
      "Test Classification Report:\n",
      "             precision    recall  f1-score   support\n",
      "\n",
      "          0       0.83      0.86      0.85       175\n",
      "          1       0.79      0.75      0.77       120\n",
      "\n",
      "avg / total       0.82      0.82      0.82       295\n",
      "\n",
      "Train Accuracy: 0.860738255034\n",
      "Test Accuracy: 0.816949152542\n"
     ]
    }
   ],
   "source": [
    "# Run a Gradient Boosting model with cross validated parameters.\n",
    "param_dist = {'n_estimators' : [1000, 2500, 5000], 'max_depth' : [1, 3, 5, 10]}\n",
    "\n",
    "gradient_boosting = GradientBoostingClassifier()\n",
    "n_iter_search = 8\n",
    "random_search = RandomizedSearchCV(gradient_boosting, param_distributions=param_dist,\n",
    "                                   n_iter=n_iter_search, cv=3, scoring='accuracy')\n",
    "random_search.fit(X_train, y_train)\n",
    "\n",
    "# Get the predictions.\n",
    "train_predictions = random_search.predict(X_train)\n",
    "test_predictions = random_search.predict(X_test)\n",
    "\n",
    "# Print the results.\n",
    "print('Best Parameters:', random_search.best_params_)\n",
    "print(\"Test Classification Report:\")\n",
    "print(classification_report(y_test, test_predictions))\n",
    "print('Train Accuracy:', accuracy_score(y_train, train_predictions))\n",
    "print('Test Accuracy:', accuracy_score(y_test, test_predictions))"
   ]
  },
  {
   "cell_type": "markdown",
   "metadata": {},
   "source": [
    "That was pretty good! The test accuracy was quite a bit better than the other models.\n",
    "\n",
    "The last thing we will try is stacking each of the models to see if we can improve our predictions."
   ]
  },
  {
   "cell_type": "code",
   "execution_count": 61,
   "metadata": {},
   "outputs": [
    {
     "name": "stdout",
     "output_type": "stream",
     "text": [
      "Best Parameters: {'n_estimators': 1000, 'max_depth': 1}\n",
      "Test Classification Report:\n",
      "             precision    recall  f1-score   support\n",
      "\n",
      "          0       0.83      0.88      0.85       175\n",
      "          1       0.81      0.73      0.77       120\n",
      "\n",
      "avg / total       0.82      0.82      0.82       295\n",
      "\n",
      "Train Accuracy: 0.93288590604\n",
      "Test Accuracy: 0.820338983051\n"
     ]
    }
   ],
   "source": [
    "# Stack a few models.\n",
    "neighbor = KNeighborsClassifier(n_neighbors=5, weights='distance', p=1)\n",
    "tree = DecisionTreeClassifier(class_weight=None, max_depth=5)\n",
    "svc_model = SVC(C=0.5, kernel='rbf')\n",
    "rand_forest = RandomForestClassifier(class_weight=None, n_estimators=1000, max_depth=10)\n",
    "gradient_boosting = GradientBoostingClassifier(n_estimators=1000, max_depth=1)\n",
    "\n",
    "eclf = VotingClassifier(estimators=[('knn', neighbor), ('dt', tree), ('svc', svc_model), ('rf', rand_forest), \n",
    "                                    ('gb', gradient_boosting)], voting='hard')\n",
    "eclf.fit(X_train, y_train)\n",
    "\n",
    "# Get the predictions.\n",
    "train_predictions = eclf.predict(X_train)\n",
    "test_predictions = eclf.predict(X_test)\n",
    "\n",
    "# Print the results.\n",
    "print('Best Parameters:', random_search.best_params_)\n",
    "print(\"Test Classification Report:\")\n",
    "print(classification_report(y_test, test_predictions))\n",
    "print('Train Accuracy:', accuracy_score(y_train, train_predictions))\n",
    "print('Test Accuracy:', accuracy_score(y_test, test_predictions))"
   ]
  },
  {
   "cell_type": "markdown",
   "metadata": {},
   "source": [
    "## Submission\n",
    "\n",
    "We will prepare and submit the data using Gradient Boosting."
   ]
  },
  {
   "cell_type": "code",
   "execution_count": 62,
   "metadata": {
    "collapsed": true
   },
   "outputs": [],
   "source": [
    "# Read in the test data.\n",
    "df_test = pd.read_csv('test_titanic.csv')"
   ]
  },
  {
   "cell_type": "code",
   "execution_count": 63,
   "metadata": {},
   "outputs": [
    {
     "data": {
      "text/plain": [
       "PassengerId      0\n",
       "Pclass           0\n",
       "Name             0\n",
       "Sex              0\n",
       "Age             86\n",
       "SibSp            0\n",
       "Parch            0\n",
       "Ticket           0\n",
       "Fare             1\n",
       "Cabin          327\n",
       "Embarked         0\n",
       "dtype: int64"
      ]
     },
     "execution_count": 63,
     "metadata": {},
     "output_type": "execute_result"
    }
   ],
   "source": [
    "# Handle missing values.\n",
    "df_test.isnull().sum()"
   ]
  },
  {
   "cell_type": "code",
   "execution_count": 64,
   "metadata": {
    "collapsed": true
   },
   "outputs": [],
   "source": [
    "# Generate a variable for missing age.\n",
    "df_test['age_missing'] = df_test.Age.isnull()\n",
    "\n",
    "# Impute missing variables.\n",
    "df_test.loc[(df_test.Age.isnull()), 'Age'] = df_test.apply(lambda x: np.random.choice(df_test.Age.dropna()), axis=1)\n",
    "\n",
    "# Fill fare.\n",
    "df_test.loc[(df_test.Fare.isnull()), 'Fare'] = df_test.Fare.mean()"
   ]
  },
  {
   "cell_type": "code",
   "execution_count": 65,
   "metadata": {
    "collapsed": true
   },
   "outputs": [],
   "source": [
    "# Clean the data.\n",
    "Clean(df_test)"
   ]
  },
  {
   "cell_type": "code",
   "execution_count": 66,
   "metadata": {
    "collapsed": true
   },
   "outputs": [],
   "source": [
    "# Get the dummy variables.\n",
    "df_test['Pclass'] = df_test['Pclass'].astype(object)\n",
    "df_test['SibSp'] = df_test['SibSp'].astype(object)\n",
    "df_test['Parch'] = df_test['Parch'].astype(object)\n",
    "df1_test = pd.get_dummies(df_test[['Pclass', 'Sex', 'Embarked', 'fare_q', 'floor', 'SibSp', 'Parch']])\n",
    "\n",
    "# Join with the original data.\n",
    "full_test = df_test.join(df1_test)"
   ]
  },
  {
   "cell_type": "code",
   "execution_count": 67,
   "metadata": {},
   "outputs": [],
   "source": [
    "# Get the needed variables for the model.\n",
    "full_test = full_test[['PassengerId', 'Age', 'SibSp', 'Parch', 'Fare', 'age_missing', 'total_fam', 'no_fam', 'young_child', 'elderly', 'had_cabin',\n",
    "             'Pclass_1', 'Pclass_2', 'Pclass_3', 'Sex_female', 'Sex_male', 'Embarked_C', 'Embarked_Q', 'Embarked_S',\n",
    "             'fare_q_0', 'fare_q_1', 'fare_q_2', 'fare_q_3', 'fare_q_4', 'floor_A', 'floor_B', 'floor_C', 'floor_D',\n",
    "             'floor_E', 'floor_F', 'floor_G', 'floor_None', 'SibSp_0', 'SibSp_1', 'SibSp_2', 'SibSp_3',\n",
    "             'SibSp_4', 'SibSp_5', 'SibSp_8', 'Parch_0', 'Parch_1', 'Parch_2', 'Parch_3',\n",
    "             'Parch_4', 'Parch_5', 'Parch_6']]\n",
    "\n",
    "full_test['floor_T'] = 0"
   ]
  },
  {
   "cell_type": "code",
   "execution_count": 45,
   "metadata": {},
   "outputs": [],
   "source": [
    "# Run a Gradient Boosting model with cross validated parameters.\n",
    "param_dist = {'n_estimators' : [1000, 2500, 5000], 'max_depth' : [1, 3, 5, 10]}\n",
    "\n",
    "gradient_boosting = GradientBoostingClassifier()\n",
    "n_iter_search = 8\n",
    "random_search = RandomizedSearchCV(gradient_boosting, param_distributions=param_dist,\n",
    "                                   n_iter=n_iter_search, cv=3, scoring='accuracy')\n",
    "random_search.fit(train, target)\n",
    "\n",
    "# Get the predictions.\n",
    "final_predictions = random_search.predict(full_test.drop('PassengerId', axis=1))"
   ]
  },
  {
   "cell_type": "code",
   "execution_count": 73,
   "metadata": {},
   "outputs": [],
   "source": [
    "# Make final data.\n",
    "final = pd.DataFrame()\n",
    "final['PassengerId'] = full_test.PassengerId\n",
    "final['Survived'] = final_predictions\n",
    "\n",
    "# Write to a csv.\n",
    "final.to_csv('submission_titanic.csv',index=False)"
   ]
  }
 ],
 "metadata": {
  "kernelspec": {
   "display_name": "Python [conda env:Anaconda3]",
   "language": "python",
   "name": "conda-env-Anaconda3-py"
  },
  "language_info": {
   "codemirror_mode": {
    "name": "ipython",
    "version": 3
   },
   "file_extension": ".py",
   "mimetype": "text/x-python",
   "name": "python",
   "nbconvert_exporter": "python",
   "pygments_lexer": "ipython3",
   "version": "3.5.3"
  }
 },
 "nbformat": 4,
 "nbformat_minor": 2
}
