{
 "cells": [
  {
   "cell_type": "markdown",
   "metadata": {},
   "source": [
    "# <center>Homework 5</center>\n",
    "### <center>_Tanner S Eastmond_</center>"
   ]
  },
  {
   "cell_type": "markdown",
   "metadata": {},
   "source": [
    "## Working with the MNIST Data\n",
    "\n",
    "Anyone who knows anything about machine learning or deep learning knows about the MNIST data, which is roughly the equivalent of 'Hello, World!' for machine learning. Today we will dive in and work with these data a little bit to see what we can learn."
   ]
  },
  {
   "cell_type": "code",
   "execution_count": 11,
   "metadata": {
    "collapsed": true
   },
   "outputs": [],
   "source": [
    "# Import the packages we need.\n",
    "import pandas as pd\n",
    "import numpy as np\n",
    "import matplotlib.pyplot as plt\n",
    "\n",
    "from sklearn.datasets import fetch_mldata\n",
    "from sklearn.decomposition import PCA\n",
    "\n",
    "%matplotlib inline"
   ]
  },
  {
   "cell_type": "markdown",
   "metadata": {},
   "source": [
    "Let's first read in the data using sci-kit learn's built in function to grab the MNIST data."
   ]
  },
  {
   "cell_type": "code",
   "execution_count": 5,
   "metadata": {
    "collapsed": true
   },
   "outputs": [],
   "source": [
    "# Read in the data.\n",
    "mnist = fetch_mldata(\"MNIST original\")\n",
    "\n",
    "# Define the x and y data.\n",
    "X = mnist.data / 255.0\n",
    "y = mnist.target"
   ]
  },
  {
   "cell_type": "markdown",
   "metadata": {},
   "source": [
    "Let's spend some time dealing with the dimensionality of the data. We are going to first use Principle Component Analysis (PCA) to reduct the dimensionality of the data.\n",
    "\n",
    "Importantly, we need to decide how many components to use for the PCA. In order to decide this, we are going to make a bunch of components and plot the cumulative explained variance ratio."
   ]
  },
  {
   "cell_type": "code",
   "execution_count": 13,
   "metadata": {},
   "outputs": [
    {
     "data": {
      "text/plain": [
       "[<matplotlib.lines.Line2D at 0x2a10001d8d0>]"
      ]
     },
     "execution_count": 13,
     "metadata": {},
     "output_type": "execute_result"
    },
    {
     "data": {
      "image/png": "[encoded data removed]",
      "text/plain": [
       "<matplotlib.figure.Figure at 0x2a12d739a90>"
      ]
     },
     "metadata": {},
     "output_type": "display_data"
    }
   ],
   "source": [
    "# First we will define the number of components. I am going to use 100 as a starting point.\n",
    "pca = PCA(n_components=100)\n",
    "\n",
    "# Now we fit the transformation to our data.\n",
    "X_pca = pca.fit_transform(X)\n",
    "\n",
    "# Lastly we get the cumulative ratio and plot it to find an 'elbow'.\n",
    "cum_sum = np.cumsum(pca.explained_variance_ratio_)\n",
    "plt.title('Cumlative Explained Variance Ratio for our PCA')\n",
    "plt.plot(range(len(cum_sum)), cum_sum)"
   ]
  },
  {
   "cell_type": "markdown",
   "metadata": {},
   "source": [
    "It looks like the elbow is around 18, so we will use 18 components for our PCA. "
   ]
  }
 ],
 "metadata": {
  "kernelspec": {
   "display_name": "Python [conda env:Anaconda3]",
   "language": "python",
   "name": "conda-env-Anaconda3-py"
  },
  "language_info": {
   "codemirror_mode": {
    "name": "ipython",
    "version": 3
   },
   "file_extension": ".py",
   "mimetype": "text/x-python",
   "name": "python",
   "nbconvert_exporter": "python",
   "pygments_lexer": "ipython3",
   "version": "3.5.3"
  }
 },
 "nbformat": 4,
 "nbformat_minor": 2
}
